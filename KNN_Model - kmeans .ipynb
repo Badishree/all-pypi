{
 "cells": [
  {
   "cell_type": "code",
   "execution_count": 1,
   "metadata": {},
   "outputs": [],
   "source": [
    "import pandas as pd\n",
    "import numpy as np\n",
    "\n",
    "# Import Dependencies\n",
    "%matplotlib inline\n",
    "\n",
    "# Start Python Imports\n",
    "import math, time, random, datetime\n",
    "\n",
    "# Visualization \n",
    "import matplotlib.pyplot as plt\n",
    "import missingno\n",
    "import seaborn as sns\n",
    "plt.style.use('seaborn-whitegrid')\n",
    "\n",
    "# Preprocessing\n",
    "from sklearn.preprocessing import OneHotEncoder, LabelEncoder, label_binarize\n"
   ]
  },
  {
   "cell_type": "code",
   "execution_count": 2,
   "metadata": {},
   "outputs": [],
   "source": [
    "## read the file\n",
    "df=pd.read_excel(\"Creatives_New.xlsx\", Sheetname ='Walmart')"
   ]
  },
  {
   "cell_type": "code",
   "execution_count": 3,
   "metadata": {},
   "outputs": [
    {
     "data": {
      "text/html": [
       "<div>\n",
       "<style scoped>\n",
       "    .dataframe tbody tr th:only-of-type {\n",
       "        vertical-align: middle;\n",
       "    }\n",
       "\n",
       "    .dataframe tbody tr th {\n",
       "        vertical-align: top;\n",
       "    }\n",
       "\n",
       "    .dataframe thead th {\n",
       "        text-align: right;\n",
       "    }\n",
       "</style>\n",
       "<table border=\"1\" class=\"dataframe\">\n",
       "  <thead>\n",
       "    <tr style=\"text-align: right;\">\n",
       "      <th></th>\n",
       "      <th>Converge</th>\n",
       "      <th>Campaign Name</th>\n",
       "      <th>Media Buy Name</th>\n",
       "      <th>Creative Name</th>\n",
       "      <th>Creative Image</th>\n",
       "      <th>Targeting Type</th>\n",
       "      <th>Creative Size</th>\n",
       "      <th>L1 Vertical</th>\n",
       "      <th>L2 Vertical</th>\n",
       "      <th>IO Start Date</th>\n",
       "      <th>...</th>\n",
       "      <th>CTA</th>\n",
       "      <th>Product Shot / Product Portfolio</th>\n",
       "      <th>Lifestyle Imagery</th>\n",
       "      <th>Heavy Copy</th>\n",
       "      <th>Savings Messaging</th>\n",
       "      <th>Lable Description_x</th>\n",
       "      <th>Lable Description_y</th>\n",
       "      <th>Object_description</th>\n",
       "      <th>Logo_description</th>\n",
       "      <th>Text_description</th>\n",
       "    </tr>\n",
       "  </thead>\n",
       "  <tbody>\n",
       "    <tr>\n",
       "      <td>0</td>\n",
       "      <td>01_ABB_J9273</td>\n",
       "      <td>01_ABB_J9273_AbbottMommy</td>\n",
       "      <td>BT_DO_P3_01_ABB_J9273_AbbottMommy</td>\n",
       "      <td>01_ABB_J9273_AbbottMommy_DIS_B_160x600_SkyScpr...</td>\n",
       "      <td>CICAgKDrvtzikAEQoAEY2AQoATIIVrA6qgUgqUs</td>\n",
       "      <td>Demographic</td>\n",
       "      <td>160x600</td>\n",
       "      <td>NaN</td>\n",
       "      <td>NaN</td>\n",
       "      <td>2018-01-01</td>\n",
       "      <td>...</td>\n",
       "      <td>Shop Now</td>\n",
       "      <td>Product Portfolio</td>\n",
       "      <td>Yes</td>\n",
       "      <td>No</td>\n",
       "      <td>No</td>\n",
       "      <td>0</td>\n",
       "      <td>0</td>\n",
       "      <td>0</td>\n",
       "      <td>0</td>\n",
       "      <td>0</td>\n",
       "    </tr>\n",
       "    <tr>\n",
       "      <td>1</td>\n",
       "      <td>01_ABB_J9273</td>\n",
       "      <td>01_ABB_J9273_AbbottMommy</td>\n",
       "      <td>BT_ORGANIC_P3_01_ABB_J9273_AbbottMommy</td>\n",
       "      <td>01_ABB_J9273_AbbottMommy_DIS_B_160x600_SkyScpr...</td>\n",
       "      <td>CICAgKDrvtzikAEQoAEY2AQoATIIVrA6qgUgqUs</td>\n",
       "      <td>Behavioral</td>\n",
       "      <td>160x600</td>\n",
       "      <td>NaN</td>\n",
       "      <td>NaN</td>\n",
       "      <td>2018-01-01</td>\n",
       "      <td>...</td>\n",
       "      <td>Shop Now</td>\n",
       "      <td>Product Portfolio</td>\n",
       "      <td>Yes</td>\n",
       "      <td>No</td>\n",
       "      <td>No</td>\n",
       "      <td>0</td>\n",
       "      <td>0</td>\n",
       "      <td>0</td>\n",
       "      <td>0</td>\n",
       "      <td>0</td>\n",
       "    </tr>\n",
       "    <tr>\n",
       "      <td>2</td>\n",
       "      <td>01_ABB_J9273</td>\n",
       "      <td>01_ABB_J9273_AbbottMommy</td>\n",
       "      <td>CT_BABY_P3_01_ABB_J9273_AbbottMommy</td>\n",
       "      <td>01_ABB_J9273_AbbottMommy_DIS_B_160x600_SkyScpr...</td>\n",
       "      <td>CICAgKDrvtzikAEQoAEY2AQoATIIVrA6qgUgqUs</td>\n",
       "      <td>Contextual</td>\n",
       "      <td>160x600</td>\n",
       "      <td>NaN</td>\n",
       "      <td>NaN</td>\n",
       "      <td>2018-01-01</td>\n",
       "      <td>...</td>\n",
       "      <td>Shop Now</td>\n",
       "      <td>Product Portfolio</td>\n",
       "      <td>Yes</td>\n",
       "      <td>No</td>\n",
       "      <td>No</td>\n",
       "      <td>0</td>\n",
       "      <td>0</td>\n",
       "      <td>0</td>\n",
       "      <td>0</td>\n",
       "      <td>0</td>\n",
       "    </tr>\n",
       "    <tr>\n",
       "      <td>3</td>\n",
       "      <td>01_ABB_J9273</td>\n",
       "      <td>01_ABB_J9273_AbbottMommy</td>\n",
       "      <td>BT_BRAND_P3_01_ABB_J9273_AbbottMommy</td>\n",
       "      <td>01_ABB_J9273_AbbottMommy_DIS_B_160x600_SkyScpr...</td>\n",
       "      <td>CICAgKDrvtzikAEQoAEY2AQoATIIVrA6qgUgqUs</td>\n",
       "      <td>Behavioral</td>\n",
       "      <td>160x600</td>\n",
       "      <td>NaN</td>\n",
       "      <td>NaN</td>\n",
       "      <td>2018-01-01</td>\n",
       "      <td>...</td>\n",
       "      <td>Shop Now</td>\n",
       "      <td>Product Portfolio</td>\n",
       "      <td>Yes</td>\n",
       "      <td>No</td>\n",
       "      <td>No</td>\n",
       "      <td>0</td>\n",
       "      <td>0</td>\n",
       "      <td>0</td>\n",
       "      <td>0</td>\n",
       "      <td>0</td>\n",
       "    </tr>\n",
       "    <tr>\n",
       "      <td>4</td>\n",
       "      <td>01_ABB_L6179</td>\n",
       "      <td>01_ABB_L6179_PediaSure18</td>\n",
       "      <td>BT_BRAND_01_ABB_L6179_PediaSure18</td>\n",
       "      <td>160x600_NEILSEN_BT_BRAND_01_ABB_L6179_PediaSur...</td>\n",
       "      <td>CICAgKDrlf74LhABGAEoATIIHjncu2pS3YE</td>\n",
       "      <td>Behavioral</td>\n",
       "      <td>160x600</td>\n",
       "      <td>Baby &amp; Toddlers</td>\n",
       "      <td>Infant Care &amp; Consumables</td>\n",
       "      <td>2018-01-22</td>\n",
       "      <td>...</td>\n",
       "      <td>Shop Now</td>\n",
       "      <td>Product Shot</td>\n",
       "      <td>Yes</td>\n",
       "      <td>No</td>\n",
       "      <td>No</td>\n",
       "      <td>0</td>\n",
       "      <td>0</td>\n",
       "      <td>0</td>\n",
       "      <td>0</td>\n",
       "      <td>0</td>\n",
       "    </tr>\n",
       "  </tbody>\n",
       "</table>\n",
       "<p>5 rows × 24 columns</p>\n",
       "</div>"
      ],
      "text/plain": [
       "       Converge             Campaign Name  \\\n",
       "0  01_ABB_J9273  01_ABB_J9273_AbbottMommy   \n",
       "1  01_ABB_J9273  01_ABB_J9273_AbbottMommy   \n",
       "2  01_ABB_J9273  01_ABB_J9273_AbbottMommy   \n",
       "3  01_ABB_J9273  01_ABB_J9273_AbbottMommy   \n",
       "4  01_ABB_L6179  01_ABB_L6179_PediaSure18   \n",
       "\n",
       "                           Media Buy Name  \\\n",
       "0       BT_DO_P3_01_ABB_J9273_AbbottMommy   \n",
       "1  BT_ORGANIC_P3_01_ABB_J9273_AbbottMommy   \n",
       "2     CT_BABY_P3_01_ABB_J9273_AbbottMommy   \n",
       "3    BT_BRAND_P3_01_ABB_J9273_AbbottMommy   \n",
       "4       BT_BRAND_01_ABB_L6179_PediaSure18   \n",
       "\n",
       "                                       Creative Name  \\\n",
       "0  01_ABB_J9273_AbbottMommy_DIS_B_160x600_SkyScpr...   \n",
       "1  01_ABB_J9273_AbbottMommy_DIS_B_160x600_SkyScpr...   \n",
       "2  01_ABB_J9273_AbbottMommy_DIS_B_160x600_SkyScpr...   \n",
       "3  01_ABB_J9273_AbbottMommy_DIS_B_160x600_SkyScpr...   \n",
       "4  160x600_NEILSEN_BT_BRAND_01_ABB_L6179_PediaSur...   \n",
       "\n",
       "                            Creative Image Targeting Type Creative Size  \\\n",
       "0  CICAgKDrvtzikAEQoAEY2AQoATIIVrA6qgUgqUs    Demographic       160x600   \n",
       "1  CICAgKDrvtzikAEQoAEY2AQoATIIVrA6qgUgqUs     Behavioral       160x600   \n",
       "2  CICAgKDrvtzikAEQoAEY2AQoATIIVrA6qgUgqUs     Contextual       160x600   \n",
       "3  CICAgKDrvtzikAEQoAEY2AQoATIIVrA6qgUgqUs     Behavioral       160x600   \n",
       "4      CICAgKDrlf74LhABGAEoATIIHjncu2pS3YE     Behavioral       160x600   \n",
       "\n",
       "       L1 Vertical                L2 Vertical IO Start Date  ...       CTA  \\\n",
       "0              NaN                        NaN    2018-01-01  ...  Shop Now   \n",
       "1              NaN                        NaN    2018-01-01  ...  Shop Now   \n",
       "2              NaN                        NaN    2018-01-01  ...  Shop Now   \n",
       "3              NaN                        NaN    2018-01-01  ...  Shop Now   \n",
       "4  Baby & Toddlers  Infant Care & Consumables    2018-01-22  ...  Shop Now   \n",
       "\n",
       "   Product Shot / Product Portfolio  Lifestyle Imagery Heavy Copy  \\\n",
       "0                 Product Portfolio                Yes         No   \n",
       "1                 Product Portfolio                Yes         No   \n",
       "2                 Product Portfolio                Yes         No   \n",
       "3                 Product Portfolio                Yes         No   \n",
       "4                      Product Shot                Yes         No   \n",
       "\n",
       "  Savings Messaging Lable Description_x Lable Description_y  \\\n",
       "0                No                   0                   0   \n",
       "1                No                   0                   0   \n",
       "2                No                   0                   0   \n",
       "3                No                   0                   0   \n",
       "4                No                   0                   0   \n",
       "\n",
       "  Object_description Logo_description Text_description  \n",
       "0                  0                0                0  \n",
       "1                  0                0                0  \n",
       "2                  0                0                0  \n",
       "3                  0                0                0  \n",
       "4                  0                0                0  \n",
       "\n",
       "[5 rows x 24 columns]"
      ]
     },
     "execution_count": 3,
     "metadata": {},
     "output_type": "execute_result"
    }
   ],
   "source": [
    "## glimpse in data\n",
    "df.head()"
   ]
  },
  {
   "cell_type": "code",
   "execution_count": 4,
   "metadata": {},
   "outputs": [
    {
     "name": "stdout",
     "output_type": "stream",
     "text": [
      "<class 'pandas.core.frame.DataFrame'>\n",
      "RangeIndex: 11780 entries, 0 to 11779\n",
      "Data columns (total 24 columns):\n",
      "Converge                            11780 non-null object\n",
      "Campaign Name                       11780 non-null object\n",
      "Media Buy Name                      11780 non-null object\n",
      "Creative Name                       11780 non-null object\n",
      "Creative Image                      11780 non-null object\n",
      "Targeting Type                      11780 non-null object\n",
      "Creative Size                       11780 non-null object\n",
      "L1 Vertical                         11331 non-null object\n",
      "L2 Vertical                         11331 non-null object\n",
      "IO Start Date                       11780 non-null datetime64[ns]\n",
      "IO End Date                         11780 non-null datetime64[ns]\n",
      "Impressions                         11780 non-null int64\n",
      "Clicks                              11780 non-null int64\n",
      "Color                               11780 non-null object\n",
      "CTA                                 11780 non-null object\n",
      "Product Shot / Product Portfolio    11679 non-null object\n",
      "Lifestyle Imagery                   11780 non-null object\n",
      "Heavy Copy                          11780 non-null object\n",
      "Savings Messaging                   11780 non-null object\n",
      "Lable Description_x                 11780 non-null object\n",
      "Lable Description_y                 11780 non-null object\n",
      "Object_description                  11780 non-null object\n",
      "Logo_description                    11780 non-null object\n",
      "Text_description                    11780 non-null object\n",
      "dtypes: datetime64[ns](2), int64(2), object(20)\n",
      "memory usage: 2.2+ MB\n"
     ]
    }
   ],
   "source": [
    "df.info()"
   ]
  },
  {
   "cell_type": "code",
   "execution_count": 5,
   "metadata": {},
   "outputs": [
    {
     "data": {
      "text/plain": [
       "<matplotlib.axes._subplots.AxesSubplot at 0x2767765c4a8>"
      ]
     },
     "execution_count": 5,
     "metadata": {},
     "output_type": "execute_result"
    },
    {
     "data": {
      "image/png": "[encoded data removed]",
      "text/plain": [
       "<Figure size 432x288 with 1 Axes>"
      ]
     },
     "metadata": {
      "needs_background": "light"
     },
     "output_type": "display_data"
    }
   ],
   "source": [
    "## check for outliers in Impression\n",
    "import seaborn as sns\n",
    "sns.boxplot(x=df['Impressions'])"
   ]
  },
  {
   "cell_type": "code",
   "execution_count": 6,
   "metadata": {},
   "outputs": [
    {
     "data": {
      "text/plain": [
       "<matplotlib.axes._subplots.AxesSubplot at 0x27677b6d1d0>"
      ]
     },
     "execution_count": 6,
     "metadata": {},
     "output_type": "execute_result"
    },
    {
     "data": {
      "image/png": "[encoded data removed]",
      "text/plain": [
       "<Figure size 432x288 with 1 Axes>"
      ]
     },
     "metadata": {
      "needs_background": "light"
     },
     "output_type": "display_data"
    }
   ],
   "source": [
    "## check for outliers in Impression\n",
    "sns.boxplot(x=df['Clicks'])\n"
   ]
  },
  {
   "cell_type": "code",
   "execution_count": 7,
   "metadata": {},
   "outputs": [
    {
     "data": {
      "image/png": "[encoded data removed]",
      "text/plain": [
       "<Figure size 1152x576 with 1 Axes>"
      ]
     },
     "metadata": {
      "needs_background": "light"
     },
     "output_type": "display_data"
    }
   ],
   "source": [
    "## plotting impression v/s clicks\n",
    "fig, ax = plt.subplots(figsize=(16,8))\n",
    "ax.scatter(df['Impressions'], df['Clicks'])\n",
    "ax.set_xlabel('Clicks')\n",
    "ax.set_ylabel('Impressions')\n",
    "plt.show()"
   ]
  },
  {
   "cell_type": "code",
   "execution_count": 4,
   "metadata": {},
   "outputs": [
    {
     "data": {
      "text/html": [
       "<div>\n",
       "<style scoped>\n",
       "    .dataframe tbody tr th:only-of-type {\n",
       "        vertical-align: middle;\n",
       "    }\n",
       "\n",
       "    .dataframe tbody tr th {\n",
       "        vertical-align: top;\n",
       "    }\n",
       "\n",
       "    .dataframe thead th {\n",
       "        text-align: right;\n",
       "    }\n",
       "</style>\n",
       "<table border=\"1\" class=\"dataframe\">\n",
       "  <thead>\n",
       "    <tr style=\"text-align: right;\">\n",
       "      <th></th>\n",
       "      <th>Converge</th>\n",
       "      <th>Campaign Name</th>\n",
       "      <th>Media Buy Name</th>\n",
       "      <th>Creative Name</th>\n",
       "      <th>Creative Image</th>\n",
       "      <th>Targeting Type</th>\n",
       "      <th>Creative Size</th>\n",
       "      <th>L1 Vertical</th>\n",
       "      <th>L2 Vertical</th>\n",
       "      <th>IO Start Date</th>\n",
       "      <th>...</th>\n",
       "      <th>Product Shot / Product Portfolio</th>\n",
       "      <th>Lifestyle Imagery</th>\n",
       "      <th>Heavy Copy</th>\n",
       "      <th>Savings Messaging</th>\n",
       "      <th>Lable Description_x</th>\n",
       "      <th>Lable Description_y</th>\n",
       "      <th>Object_description</th>\n",
       "      <th>Logo_description</th>\n",
       "      <th>Text_description</th>\n",
       "      <th>log_Impressions</th>\n",
       "    </tr>\n",
       "  </thead>\n",
       "  <tbody>\n",
       "    <tr>\n",
       "      <th>0</th>\n",
       "      <td>01_ABB_J9273</td>\n",
       "      <td>01_ABB_J9273_AbbottMommy</td>\n",
       "      <td>BT_DO_P3_01_ABB_J9273_AbbottMommy</td>\n",
       "      <td>01_ABB_J9273_AbbottMommy_DIS_B_160x600_SkyScpr...</td>\n",
       "      <td>CICAgKDrvtzikAEQoAEY2AQoATIIVrA6qgUgqUs</td>\n",
       "      <td>Demographic</td>\n",
       "      <td>160x600</td>\n",
       "      <td>NaN</td>\n",
       "      <td>NaN</td>\n",
       "      <td>2018-01-01</td>\n",
       "      <td>...</td>\n",
       "      <td>Product Portfolio</td>\n",
       "      <td>Yes</td>\n",
       "      <td>No</td>\n",
       "      <td>No</td>\n",
       "      <td>0</td>\n",
       "      <td>0</td>\n",
       "      <td>0</td>\n",
       "      <td>0</td>\n",
       "      <td>0</td>\n",
       "      <td>12.217285</td>\n",
       "    </tr>\n",
       "    <tr>\n",
       "      <th>1</th>\n",
       "      <td>01_ABB_J9273</td>\n",
       "      <td>01_ABB_J9273_AbbottMommy</td>\n",
       "      <td>BT_ORGANIC_P3_01_ABB_J9273_AbbottMommy</td>\n",
       "      <td>01_ABB_J9273_AbbottMommy_DIS_B_160x600_SkyScpr...</td>\n",
       "      <td>CICAgKDrvtzikAEQoAEY2AQoATIIVrA6qgUgqUs</td>\n",
       "      <td>Behavioral</td>\n",
       "      <td>160x600</td>\n",
       "      <td>NaN</td>\n",
       "      <td>NaN</td>\n",
       "      <td>2018-01-01</td>\n",
       "      <td>...</td>\n",
       "      <td>Product Portfolio</td>\n",
       "      <td>Yes</td>\n",
       "      <td>No</td>\n",
       "      <td>No</td>\n",
       "      <td>0</td>\n",
       "      <td>0</td>\n",
       "      <td>0</td>\n",
       "      <td>0</td>\n",
       "      <td>0</td>\n",
       "      <td>12.080708</td>\n",
       "    </tr>\n",
       "    <tr>\n",
       "      <th>2</th>\n",
       "      <td>01_ABB_J9273</td>\n",
       "      <td>01_ABB_J9273_AbbottMommy</td>\n",
       "      <td>CT_BABY_P3_01_ABB_J9273_AbbottMommy</td>\n",
       "      <td>01_ABB_J9273_AbbottMommy_DIS_B_160x600_SkyScpr...</td>\n",
       "      <td>CICAgKDrvtzikAEQoAEY2AQoATIIVrA6qgUgqUs</td>\n",
       "      <td>Contextual</td>\n",
       "      <td>160x600</td>\n",
       "      <td>NaN</td>\n",
       "      <td>NaN</td>\n",
       "      <td>2018-01-01</td>\n",
       "      <td>...</td>\n",
       "      <td>Product Portfolio</td>\n",
       "      <td>Yes</td>\n",
       "      <td>No</td>\n",
       "      <td>No</td>\n",
       "      <td>0</td>\n",
       "      <td>0</td>\n",
       "      <td>0</td>\n",
       "      <td>0</td>\n",
       "      <td>0</td>\n",
       "      <td>11.364356</td>\n",
       "    </tr>\n",
       "    <tr>\n",
       "      <th>3</th>\n",
       "      <td>01_ABB_J9273</td>\n",
       "      <td>01_ABB_J9273_AbbottMommy</td>\n",
       "      <td>BT_BRAND_P3_01_ABB_J9273_AbbottMommy</td>\n",
       "      <td>01_ABB_J9273_AbbottMommy_DIS_B_160x600_SkyScpr...</td>\n",
       "      <td>CICAgKDrvtzikAEQoAEY2AQoATIIVrA6qgUgqUs</td>\n",
       "      <td>Behavioral</td>\n",
       "      <td>160x600</td>\n",
       "      <td>NaN</td>\n",
       "      <td>NaN</td>\n",
       "      <td>2018-01-01</td>\n",
       "      <td>...</td>\n",
       "      <td>Product Portfolio</td>\n",
       "      <td>Yes</td>\n",
       "      <td>No</td>\n",
       "      <td>No</td>\n",
       "      <td>0</td>\n",
       "      <td>0</td>\n",
       "      <td>0</td>\n",
       "      <td>0</td>\n",
       "      <td>0</td>\n",
       "      <td>11.006706</td>\n",
       "    </tr>\n",
       "    <tr>\n",
       "      <th>4</th>\n",
       "      <td>01_ABB_L6179</td>\n",
       "      <td>01_ABB_L6179_PediaSure18</td>\n",
       "      <td>BT_BRAND_01_ABB_L6179_PediaSure18</td>\n",
       "      <td>160x600_NEILSEN_BT_BRAND_01_ABB_L6179_PediaSur...</td>\n",
       "      <td>CICAgKDrlf74LhABGAEoATIIHjncu2pS3YE</td>\n",
       "      <td>Behavioral</td>\n",
       "      <td>160x600</td>\n",
       "      <td>Baby &amp; Toddlers</td>\n",
       "      <td>Infant Care &amp; Consumables</td>\n",
       "      <td>2018-01-22</td>\n",
       "      <td>...</td>\n",
       "      <td>Product Shot</td>\n",
       "      <td>Yes</td>\n",
       "      <td>No</td>\n",
       "      <td>No</td>\n",
       "      <td>0</td>\n",
       "      <td>0</td>\n",
       "      <td>0</td>\n",
       "      <td>0</td>\n",
       "      <td>0</td>\n",
       "      <td>11.962363</td>\n",
       "    </tr>\n",
       "  </tbody>\n",
       "</table>\n",
       "<p>5 rows × 25 columns</p>\n",
       "</div>"
      ],
      "text/plain": [
       "       Converge             Campaign Name  \\\n",
       "0  01_ABB_J9273  01_ABB_J9273_AbbottMommy   \n",
       "1  01_ABB_J9273  01_ABB_J9273_AbbottMommy   \n",
       "2  01_ABB_J9273  01_ABB_J9273_AbbottMommy   \n",
       "3  01_ABB_J9273  01_ABB_J9273_AbbottMommy   \n",
       "4  01_ABB_L6179  01_ABB_L6179_PediaSure18   \n",
       "\n",
       "                           Media Buy Name  \\\n",
       "0       BT_DO_P3_01_ABB_J9273_AbbottMommy   \n",
       "1  BT_ORGANIC_P3_01_ABB_J9273_AbbottMommy   \n",
       "2     CT_BABY_P3_01_ABB_J9273_AbbottMommy   \n",
       "3    BT_BRAND_P3_01_ABB_J9273_AbbottMommy   \n",
       "4       BT_BRAND_01_ABB_L6179_PediaSure18   \n",
       "\n",
       "                                       Creative Name  \\\n",
       "0  01_ABB_J9273_AbbottMommy_DIS_B_160x600_SkyScpr...   \n",
       "1  01_ABB_J9273_AbbottMommy_DIS_B_160x600_SkyScpr...   \n",
       "2  01_ABB_J9273_AbbottMommy_DIS_B_160x600_SkyScpr...   \n",
       "3  01_ABB_J9273_AbbottMommy_DIS_B_160x600_SkyScpr...   \n",
       "4  160x600_NEILSEN_BT_BRAND_01_ABB_L6179_PediaSur...   \n",
       "\n",
       "                            Creative Image Targeting Type Creative Size  \\\n",
       "0  CICAgKDrvtzikAEQoAEY2AQoATIIVrA6qgUgqUs    Demographic       160x600   \n",
       "1  CICAgKDrvtzikAEQoAEY2AQoATIIVrA6qgUgqUs     Behavioral       160x600   \n",
       "2  CICAgKDrvtzikAEQoAEY2AQoATIIVrA6qgUgqUs     Contextual       160x600   \n",
       "3  CICAgKDrvtzikAEQoAEY2AQoATIIVrA6qgUgqUs     Behavioral       160x600   \n",
       "4      CICAgKDrlf74LhABGAEoATIIHjncu2pS3YE     Behavioral       160x600   \n",
       "\n",
       "       L1 Vertical                L2 Vertical IO Start Date  ...  \\\n",
       "0              NaN                        NaN    2018-01-01  ...   \n",
       "1              NaN                        NaN    2018-01-01  ...   \n",
       "2              NaN                        NaN    2018-01-01  ...   \n",
       "3              NaN                        NaN    2018-01-01  ...   \n",
       "4  Baby & Toddlers  Infant Care & Consumables    2018-01-22  ...   \n",
       "\n",
       "  Product Shot / Product Portfolio  Lifestyle Imagery  Heavy Copy  \\\n",
       "0                Product Portfolio                Yes          No   \n",
       "1                Product Portfolio                Yes          No   \n",
       "2                Product Portfolio                Yes          No   \n",
       "3                Product Portfolio                Yes          No   \n",
       "4                     Product Shot                Yes          No   \n",
       "\n",
       "  Savings Messaging Lable Description_x Lable Description_y  \\\n",
       "0                No                   0                   0   \n",
       "1                No                   0                   0   \n",
       "2                No                   0                   0   \n",
       "3                No                   0                   0   \n",
       "4                No                   0                   0   \n",
       "\n",
       "  Object_description Logo_description Text_description log_Impressions  \n",
       "0                  0                0                0       12.217285  \n",
       "1                  0                0                0       12.080708  \n",
       "2                  0                0                0       11.364356  \n",
       "3                  0                0                0       11.006706  \n",
       "4                  0                0                0       11.962363  \n",
       "\n",
       "[5 rows x 25 columns]"
      ]
     },
     "execution_count": 4,
     "metadata": {},
     "output_type": "execute_result"
    }
   ],
   "source": [
    "# Rescale Impressions\n",
    "df['log_Impressions'] = [np.log(x) for x in df['Impressions']]\n",
    "df.head()"
   ]
  },
  {
   "cell_type": "code",
   "execution_count": 5,
   "metadata": {},
   "outputs": [
    {
     "data": {
      "text/plain": [
       "<matplotlib.axes._subplots.AxesSubplot at 0x16a1278e438>"
      ]
     },
     "execution_count": 5,
     "metadata": {},
     "output_type": "execute_result"
    },
    {
     "data": {
      "image/png": "[encoded data removed]",
      "text/plain": [
       "<Figure size 432x288 with 1 Axes>"
      ]
     },
     "metadata": {
      "needs_background": "light"
     },
     "output_type": "display_data"
    }
   ],
   "source": [
    "sns.boxplot(x=df['log_Impressions'])\n"
   ]
  },
  {
   "cell_type": "code",
   "execution_count": 6,
   "metadata": {},
   "outputs": [
    {
     "name": "stderr",
     "output_type": "stream",
     "text": [
      "C:\\Users\\adishree.b\\AppData\\Local\\Continuum\\anaconda3\\envs\\python3-TF2.0\\lib\\site-packages\\ipykernel_launcher.py:2: RuntimeWarning: divide by zero encountered in log\n",
      "  \n"
     ]
    },
    {
     "data": {
      "text/html": [
       "<div>\n",
       "<style scoped>\n",
       "    .dataframe tbody tr th:only-of-type {\n",
       "        vertical-align: middle;\n",
       "    }\n",
       "\n",
       "    .dataframe tbody tr th {\n",
       "        vertical-align: top;\n",
       "    }\n",
       "\n",
       "    .dataframe thead th {\n",
       "        text-align: right;\n",
       "    }\n",
       "</style>\n",
       "<table border=\"1\" class=\"dataframe\">\n",
       "  <thead>\n",
       "    <tr style=\"text-align: right;\">\n",
       "      <th></th>\n",
       "      <th>Converge</th>\n",
       "      <th>Campaign Name</th>\n",
       "      <th>Media Buy Name</th>\n",
       "      <th>Creative Name</th>\n",
       "      <th>Creative Image</th>\n",
       "      <th>Targeting Type</th>\n",
       "      <th>Creative Size</th>\n",
       "      <th>L1 Vertical</th>\n",
       "      <th>L2 Vertical</th>\n",
       "      <th>IO Start Date</th>\n",
       "      <th>...</th>\n",
       "      <th>Lifestyle Imagery</th>\n",
       "      <th>Heavy Copy</th>\n",
       "      <th>Savings Messaging</th>\n",
       "      <th>Lable Description_x</th>\n",
       "      <th>Lable Description_y</th>\n",
       "      <th>Object_description</th>\n",
       "      <th>Logo_description</th>\n",
       "      <th>Text_description</th>\n",
       "      <th>log_Impressions</th>\n",
       "      <th>log_Clicks</th>\n",
       "    </tr>\n",
       "  </thead>\n",
       "  <tbody>\n",
       "    <tr>\n",
       "      <th>0</th>\n",
       "      <td>01_ABB_J9273</td>\n",
       "      <td>01_ABB_J9273_AbbottMommy</td>\n",
       "      <td>BT_DO_P3_01_ABB_J9273_AbbottMommy</td>\n",
       "      <td>01_ABB_J9273_AbbottMommy_DIS_B_160x600_SkyScpr...</td>\n",
       "      <td>CICAgKDrvtzikAEQoAEY2AQoATIIVrA6qgUgqUs</td>\n",
       "      <td>Demographic</td>\n",
       "      <td>160x600</td>\n",
       "      <td>NaN</td>\n",
       "      <td>NaN</td>\n",
       "      <td>2018-01-01</td>\n",
       "      <td>...</td>\n",
       "      <td>Yes</td>\n",
       "      <td>No</td>\n",
       "      <td>No</td>\n",
       "      <td>0</td>\n",
       "      <td>0</td>\n",
       "      <td>0</td>\n",
       "      <td>0</td>\n",
       "      <td>0</td>\n",
       "      <td>12.217285</td>\n",
       "      <td>3.526361</td>\n",
       "    </tr>\n",
       "    <tr>\n",
       "      <th>1</th>\n",
       "      <td>01_ABB_J9273</td>\n",
       "      <td>01_ABB_J9273_AbbottMommy</td>\n",
       "      <td>BT_ORGANIC_P3_01_ABB_J9273_AbbottMommy</td>\n",
       "      <td>01_ABB_J9273_AbbottMommy_DIS_B_160x600_SkyScpr...</td>\n",
       "      <td>CICAgKDrvtzikAEQoAEY2AQoATIIVrA6qgUgqUs</td>\n",
       "      <td>Behavioral</td>\n",
       "      <td>160x600</td>\n",
       "      <td>NaN</td>\n",
       "      <td>NaN</td>\n",
       "      <td>2018-01-01</td>\n",
       "      <td>...</td>\n",
       "      <td>Yes</td>\n",
       "      <td>No</td>\n",
       "      <td>No</td>\n",
       "      <td>0</td>\n",
       "      <td>0</td>\n",
       "      <td>0</td>\n",
       "      <td>0</td>\n",
       "      <td>0</td>\n",
       "      <td>12.080708</td>\n",
       "      <td>3.044522</td>\n",
       "    </tr>\n",
       "    <tr>\n",
       "      <th>2</th>\n",
       "      <td>01_ABB_J9273</td>\n",
       "      <td>01_ABB_J9273_AbbottMommy</td>\n",
       "      <td>CT_BABY_P3_01_ABB_J9273_AbbottMommy</td>\n",
       "      <td>01_ABB_J9273_AbbottMommy_DIS_B_160x600_SkyScpr...</td>\n",
       "      <td>CICAgKDrvtzikAEQoAEY2AQoATIIVrA6qgUgqUs</td>\n",
       "      <td>Contextual</td>\n",
       "      <td>160x600</td>\n",
       "      <td>NaN</td>\n",
       "      <td>NaN</td>\n",
       "      <td>2018-01-01</td>\n",
       "      <td>...</td>\n",
       "      <td>Yes</td>\n",
       "      <td>No</td>\n",
       "      <td>No</td>\n",
       "      <td>0</td>\n",
       "      <td>0</td>\n",
       "      <td>0</td>\n",
       "      <td>0</td>\n",
       "      <td>0</td>\n",
       "      <td>11.364356</td>\n",
       "      <td>3.806662</td>\n",
       "    </tr>\n",
       "    <tr>\n",
       "      <th>3</th>\n",
       "      <td>01_ABB_J9273</td>\n",
       "      <td>01_ABB_J9273_AbbottMommy</td>\n",
       "      <td>BT_BRAND_P3_01_ABB_J9273_AbbottMommy</td>\n",
       "      <td>01_ABB_J9273_AbbottMommy_DIS_B_160x600_SkyScpr...</td>\n",
       "      <td>CICAgKDrvtzikAEQoAEY2AQoATIIVrA6qgUgqUs</td>\n",
       "      <td>Behavioral</td>\n",
       "      <td>160x600</td>\n",
       "      <td>NaN</td>\n",
       "      <td>NaN</td>\n",
       "      <td>2018-01-01</td>\n",
       "      <td>...</td>\n",
       "      <td>Yes</td>\n",
       "      <td>No</td>\n",
       "      <td>No</td>\n",
       "      <td>0</td>\n",
       "      <td>0</td>\n",
       "      <td>0</td>\n",
       "      <td>0</td>\n",
       "      <td>0</td>\n",
       "      <td>11.006706</td>\n",
       "      <td>2.197225</td>\n",
       "    </tr>\n",
       "    <tr>\n",
       "      <th>4</th>\n",
       "      <td>01_ABB_L6179</td>\n",
       "      <td>01_ABB_L6179_PediaSure18</td>\n",
       "      <td>BT_BRAND_01_ABB_L6179_PediaSure18</td>\n",
       "      <td>160x600_NEILSEN_BT_BRAND_01_ABB_L6179_PediaSur...</td>\n",
       "      <td>CICAgKDrlf74LhABGAEoATIIHjncu2pS3YE</td>\n",
       "      <td>Behavioral</td>\n",
       "      <td>160x600</td>\n",
       "      <td>Baby &amp; Toddlers</td>\n",
       "      <td>Infant Care &amp; Consumables</td>\n",
       "      <td>2018-01-22</td>\n",
       "      <td>...</td>\n",
       "      <td>Yes</td>\n",
       "      <td>No</td>\n",
       "      <td>No</td>\n",
       "      <td>0</td>\n",
       "      <td>0</td>\n",
       "      <td>0</td>\n",
       "      <td>0</td>\n",
       "      <td>0</td>\n",
       "      <td>11.962363</td>\n",
       "      <td>2.944439</td>\n",
       "    </tr>\n",
       "  </tbody>\n",
       "</table>\n",
       "<p>5 rows × 26 columns</p>\n",
       "</div>"
      ],
      "text/plain": [
       "       Converge             Campaign Name  \\\n",
       "0  01_ABB_J9273  01_ABB_J9273_AbbottMommy   \n",
       "1  01_ABB_J9273  01_ABB_J9273_AbbottMommy   \n",
       "2  01_ABB_J9273  01_ABB_J9273_AbbottMommy   \n",
       "3  01_ABB_J9273  01_ABB_J9273_AbbottMommy   \n",
       "4  01_ABB_L6179  01_ABB_L6179_PediaSure18   \n",
       "\n",
       "                           Media Buy Name  \\\n",
       "0       BT_DO_P3_01_ABB_J9273_AbbottMommy   \n",
       "1  BT_ORGANIC_P3_01_ABB_J9273_AbbottMommy   \n",
       "2     CT_BABY_P3_01_ABB_J9273_AbbottMommy   \n",
       "3    BT_BRAND_P3_01_ABB_J9273_AbbottMommy   \n",
       "4       BT_BRAND_01_ABB_L6179_PediaSure18   \n",
       "\n",
       "                                       Creative Name  \\\n",
       "0  01_ABB_J9273_AbbottMommy_DIS_B_160x600_SkyScpr...   \n",
       "1  01_ABB_J9273_AbbottMommy_DIS_B_160x600_SkyScpr...   \n",
       "2  01_ABB_J9273_AbbottMommy_DIS_B_160x600_SkyScpr...   \n",
       "3  01_ABB_J9273_AbbottMommy_DIS_B_160x600_SkyScpr...   \n",
       "4  160x600_NEILSEN_BT_BRAND_01_ABB_L6179_PediaSur...   \n",
       "\n",
       "                            Creative Image Targeting Type Creative Size  \\\n",
       "0  CICAgKDrvtzikAEQoAEY2AQoATIIVrA6qgUgqUs    Demographic       160x600   \n",
       "1  CICAgKDrvtzikAEQoAEY2AQoATIIVrA6qgUgqUs     Behavioral       160x600   \n",
       "2  CICAgKDrvtzikAEQoAEY2AQoATIIVrA6qgUgqUs     Contextual       160x600   \n",
       "3  CICAgKDrvtzikAEQoAEY2AQoATIIVrA6qgUgqUs     Behavioral       160x600   \n",
       "4      CICAgKDrlf74LhABGAEoATIIHjncu2pS3YE     Behavioral       160x600   \n",
       "\n",
       "       L1 Vertical                L2 Vertical IO Start Date  ...  \\\n",
       "0              NaN                        NaN    2018-01-01  ...   \n",
       "1              NaN                        NaN    2018-01-01  ...   \n",
       "2              NaN                        NaN    2018-01-01  ...   \n",
       "3              NaN                        NaN    2018-01-01  ...   \n",
       "4  Baby & Toddlers  Infant Care & Consumables    2018-01-22  ...   \n",
       "\n",
       "  Lifestyle Imagery  Heavy Copy  Savings Messaging Lable Description_x  \\\n",
       "0               Yes          No                 No                   0   \n",
       "1               Yes          No                 No                   0   \n",
       "2               Yes          No                 No                   0   \n",
       "3               Yes          No                 No                   0   \n",
       "4               Yes          No                 No                   0   \n",
       "\n",
       "  Lable Description_y Object_description Logo_description Text_description  \\\n",
       "0                   0                  0                0                0   \n",
       "1                   0                  0                0                0   \n",
       "2                   0                  0                0                0   \n",
       "3                   0                  0                0                0   \n",
       "4                   0                  0                0                0   \n",
       "\n",
       "  log_Impressions log_Clicks  \n",
       "0       12.217285   3.526361  \n",
       "1       12.080708   3.044522  \n",
       "2       11.364356   3.806662  \n",
       "3       11.006706   2.197225  \n",
       "4       11.962363   2.944439  \n",
       "\n",
       "[5 rows x 26 columns]"
      ]
     },
     "execution_count": 6,
     "metadata": {},
     "output_type": "execute_result"
    }
   ],
   "source": [
    "# Rescale Clicks\n",
    "df['log_Clicks'] = [np.log(x) for x in df['Clicks']]\n",
    "df.head()"
   ]
  },
  {
   "cell_type": "code",
   "execution_count": 7,
   "metadata": {},
   "outputs": [
    {
     "data": {
      "text/plain": [
       "<matplotlib.axes._subplots.AxesSubplot at 0x16a12ce1128>"
      ]
     },
     "execution_count": 7,
     "metadata": {},
     "output_type": "execute_result"
    },
    {
     "data": {
      "image/png": "[encoded data removed]",
      "text/plain": [
       "<Figure size 432x288 with 1 Axes>"
      ]
     },
     "metadata": {
      "needs_background": "light"
     },
     "output_type": "display_data"
    }
   ],
   "source": [
    "sns.boxplot(x=df['log_Clicks'])"
   ]
  },
  {
   "cell_type": "code",
   "execution_count": null,
   "metadata": {},
   "outputs": [],
   "source": []
  },
  {
   "cell_type": "code",
   "execution_count": 9,
   "metadata": {},
   "outputs": [
    {
     "data": {
      "text/plain": [
       "Converge                              0\n",
       "Campaign Name                         0\n",
       "Media Buy Name                        0\n",
       "Creative Name                         0\n",
       "Creative Image                        0\n",
       "Targeting Type                        0\n",
       "Creative Size                         0\n",
       "L1 Vertical                         449\n",
       "L2 Vertical                         449\n",
       "IO Start Date                         0\n",
       "IO End Date                           0\n",
       "Impressions                           0\n",
       "Clicks                                0\n",
       "Color                                 0\n",
       "CTA                                   0\n",
       "Product Shot / Product Portfolio    101\n",
       "Lifestyle Imagery                     0\n",
       "Heavy Copy                            0\n",
       "Savings Messaging                     0\n",
       "Lable Description_x                   0\n",
       "Lable Description_y                   0\n",
       "Object_description                    0\n",
       "Logo_description                      0\n",
       "Text_description                      0\n",
       "log_Impressions                       0\n",
       "log_Clicks                            0\n",
       "dtype: int64"
      ]
     },
     "execution_count": 9,
     "metadata": {},
     "output_type": "execute_result"
    }
   ],
   "source": [
    "## count for missing values in data\n",
    "num_missing_data = df.isnull().sum()\n",
    "num_missing_data"
   ]
  },
  {
   "cell_type": "code",
   "execution_count": 10,
   "metadata": {},
   "outputs": [
    {
     "data": {
      "text/plain": [
       "0                NaN\n",
       "1                NaN\n",
       "2                NaN\n",
       "3                NaN\n",
       "4    Baby & Toddlers\n",
       "Name: L1 Vertical, dtype: object"
      ]
     },
     "execution_count": 10,
     "metadata": {},
     "output_type": "execute_result"
    }
   ],
   "source": [
    "num_missing_data = df['L1 Vertical'].isnull()\n",
    "df['L1 Vertical'].head()"
   ]
  },
  {
   "cell_type": "code",
   "execution_count": 11,
   "metadata": {},
   "outputs": [],
   "source": [
    "df['L1 Vertical']= df['L1 Vertical'].fillna('Others')\n",
    "df['L2 Vertical']= df['L2 Vertical'].fillna('Others')"
   ]
  },
  {
   "cell_type": "code",
   "execution_count": 114,
   "metadata": {},
   "outputs": [
    {
     "data": {
      "text/html": [
       "<div>\n",
       "<style scoped>\n",
       "    .dataframe tbody tr th:only-of-type {\n",
       "        vertical-align: middle;\n",
       "    }\n",
       "\n",
       "    .dataframe tbody tr th {\n",
       "        vertical-align: top;\n",
       "    }\n",
       "\n",
       "    .dataframe thead th {\n",
       "        text-align: right;\n",
       "    }\n",
       "</style>\n",
       "<table border=\"1\" class=\"dataframe\">\n",
       "  <thead>\n",
       "    <tr style=\"text-align: right;\">\n",
       "      <th></th>\n",
       "      <th>Converge</th>\n",
       "      <th>Campaign Name</th>\n",
       "      <th>Media Buy Name</th>\n",
       "      <th>Creative Name</th>\n",
       "      <th>Creative Image</th>\n",
       "      <th>Targeting Type</th>\n",
       "      <th>Creative Size</th>\n",
       "      <th>L1 Vertical</th>\n",
       "      <th>L2 Vertical</th>\n",
       "      <th>IO Start Date</th>\n",
       "      <th>...</th>\n",
       "      <th>Lifestyle Imagery</th>\n",
       "      <th>Heavy Copy</th>\n",
       "      <th>Savings Messaging</th>\n",
       "      <th>Lable Description_x</th>\n",
       "      <th>Lable Description_y</th>\n",
       "      <th>Object_description</th>\n",
       "      <th>Logo_description</th>\n",
       "      <th>Text_description</th>\n",
       "      <th>log_Impressions</th>\n",
       "      <th>log_Clicks</th>\n",
       "    </tr>\n",
       "  </thead>\n",
       "  <tbody>\n",
       "    <tr>\n",
       "      <th>0</th>\n",
       "      <td>01_ABB_J9273</td>\n",
       "      <td>01_ABB_J9273_AbbottMommy</td>\n",
       "      <td>BT_DO_P3_01_ABB_J9273_AbbottMommy</td>\n",
       "      <td>01_ABB_J9273_AbbottMommy_DIS_B_160x600_SkyScpr...</td>\n",
       "      <td>CICAgKDrvtzikAEQoAEY2AQoATIIVrA6qgUgqUs</td>\n",
       "      <td>Demographic</td>\n",
       "      <td>160x600</td>\n",
       "      <td>Others</td>\n",
       "      <td>Others</td>\n",
       "      <td>2018-01-01</td>\n",
       "      <td>...</td>\n",
       "      <td>Yes</td>\n",
       "      <td>No</td>\n",
       "      <td>No</td>\n",
       "      <td>0</td>\n",
       "      <td>0</td>\n",
       "      <td>0</td>\n",
       "      <td>0</td>\n",
       "      <td>0</td>\n",
       "      <td>12.217285</td>\n",
       "      <td>3.526361</td>\n",
       "    </tr>\n",
       "    <tr>\n",
       "      <th>1</th>\n",
       "      <td>01_ABB_J9273</td>\n",
       "      <td>01_ABB_J9273_AbbottMommy</td>\n",
       "      <td>BT_ORGANIC_P3_01_ABB_J9273_AbbottMommy</td>\n",
       "      <td>01_ABB_J9273_AbbottMommy_DIS_B_160x600_SkyScpr...</td>\n",
       "      <td>CICAgKDrvtzikAEQoAEY2AQoATIIVrA6qgUgqUs</td>\n",
       "      <td>Behavioral</td>\n",
       "      <td>160x600</td>\n",
       "      <td>Others</td>\n",
       "      <td>Others</td>\n",
       "      <td>2018-01-01</td>\n",
       "      <td>...</td>\n",
       "      <td>Yes</td>\n",
       "      <td>No</td>\n",
       "      <td>No</td>\n",
       "      <td>0</td>\n",
       "      <td>0</td>\n",
       "      <td>0</td>\n",
       "      <td>0</td>\n",
       "      <td>0</td>\n",
       "      <td>12.080708</td>\n",
       "      <td>3.044522</td>\n",
       "    </tr>\n",
       "    <tr>\n",
       "      <th>2</th>\n",
       "      <td>01_ABB_J9273</td>\n",
       "      <td>01_ABB_J9273_AbbottMommy</td>\n",
       "      <td>CT_BABY_P3_01_ABB_J9273_AbbottMommy</td>\n",
       "      <td>01_ABB_J9273_AbbottMommy_DIS_B_160x600_SkyScpr...</td>\n",
       "      <td>CICAgKDrvtzikAEQoAEY2AQoATIIVrA6qgUgqUs</td>\n",
       "      <td>Contextual</td>\n",
       "      <td>160x600</td>\n",
       "      <td>Others</td>\n",
       "      <td>Others</td>\n",
       "      <td>2018-01-01</td>\n",
       "      <td>...</td>\n",
       "      <td>Yes</td>\n",
       "      <td>No</td>\n",
       "      <td>No</td>\n",
       "      <td>0</td>\n",
       "      <td>0</td>\n",
       "      <td>0</td>\n",
       "      <td>0</td>\n",
       "      <td>0</td>\n",
       "      <td>11.364356</td>\n",
       "      <td>3.806662</td>\n",
       "    </tr>\n",
       "    <tr>\n",
       "      <th>3</th>\n",
       "      <td>01_ABB_J9273</td>\n",
       "      <td>01_ABB_J9273_AbbottMommy</td>\n",
       "      <td>BT_BRAND_P3_01_ABB_J9273_AbbottMommy</td>\n",
       "      <td>01_ABB_J9273_AbbottMommy_DIS_B_160x600_SkyScpr...</td>\n",
       "      <td>CICAgKDrvtzikAEQoAEY2AQoATIIVrA6qgUgqUs</td>\n",
       "      <td>Behavioral</td>\n",
       "      <td>160x600</td>\n",
       "      <td>Others</td>\n",
       "      <td>Others</td>\n",
       "      <td>2018-01-01</td>\n",
       "      <td>...</td>\n",
       "      <td>Yes</td>\n",
       "      <td>No</td>\n",
       "      <td>No</td>\n",
       "      <td>0</td>\n",
       "      <td>0</td>\n",
       "      <td>0</td>\n",
       "      <td>0</td>\n",
       "      <td>0</td>\n",
       "      <td>11.006706</td>\n",
       "      <td>2.197225</td>\n",
       "    </tr>\n",
       "    <tr>\n",
       "      <th>4</th>\n",
       "      <td>01_ABB_L6179</td>\n",
       "      <td>01_ABB_L6179_PediaSure18</td>\n",
       "      <td>BT_BRAND_01_ABB_L6179_PediaSure18</td>\n",
       "      <td>160x600_NEILSEN_BT_BRAND_01_ABB_L6179_PediaSur...</td>\n",
       "      <td>CICAgKDrlf74LhABGAEoATIIHjncu2pS3YE</td>\n",
       "      <td>Behavioral</td>\n",
       "      <td>160x600</td>\n",
       "      <td>Baby &amp; Toddlers</td>\n",
       "      <td>Infant Care &amp; Consumables</td>\n",
       "      <td>2018-01-22</td>\n",
       "      <td>...</td>\n",
       "      <td>Yes</td>\n",
       "      <td>No</td>\n",
       "      <td>No</td>\n",
       "      <td>0</td>\n",
       "      <td>0</td>\n",
       "      <td>0</td>\n",
       "      <td>0</td>\n",
       "      <td>0</td>\n",
       "      <td>11.962363</td>\n",
       "      <td>2.944439</td>\n",
       "    </tr>\n",
       "  </tbody>\n",
       "</table>\n",
       "<p>5 rows × 26 columns</p>\n",
       "</div>"
      ],
      "text/plain": [
       "       Converge             Campaign Name  \\\n",
       "0  01_ABB_J9273  01_ABB_J9273_AbbottMommy   \n",
       "1  01_ABB_J9273  01_ABB_J9273_AbbottMommy   \n",
       "2  01_ABB_J9273  01_ABB_J9273_AbbottMommy   \n",
       "3  01_ABB_J9273  01_ABB_J9273_AbbottMommy   \n",
       "4  01_ABB_L6179  01_ABB_L6179_PediaSure18   \n",
       "\n",
       "                           Media Buy Name  \\\n",
       "0       BT_DO_P3_01_ABB_J9273_AbbottMommy   \n",
       "1  BT_ORGANIC_P3_01_ABB_J9273_AbbottMommy   \n",
       "2     CT_BABY_P3_01_ABB_J9273_AbbottMommy   \n",
       "3    BT_BRAND_P3_01_ABB_J9273_AbbottMommy   \n",
       "4       BT_BRAND_01_ABB_L6179_PediaSure18   \n",
       "\n",
       "                                       Creative Name  \\\n",
       "0  01_ABB_J9273_AbbottMommy_DIS_B_160x600_SkyScpr...   \n",
       "1  01_ABB_J9273_AbbottMommy_DIS_B_160x600_SkyScpr...   \n",
       "2  01_ABB_J9273_AbbottMommy_DIS_B_160x600_SkyScpr...   \n",
       "3  01_ABB_J9273_AbbottMommy_DIS_B_160x600_SkyScpr...   \n",
       "4  160x600_NEILSEN_BT_BRAND_01_ABB_L6179_PediaSur...   \n",
       "\n",
       "                            Creative Image Targeting Type Creative Size  \\\n",
       "0  CICAgKDrvtzikAEQoAEY2AQoATIIVrA6qgUgqUs    Demographic       160x600   \n",
       "1  CICAgKDrvtzikAEQoAEY2AQoATIIVrA6qgUgqUs     Behavioral       160x600   \n",
       "2  CICAgKDrvtzikAEQoAEY2AQoATIIVrA6qgUgqUs     Contextual       160x600   \n",
       "3  CICAgKDrvtzikAEQoAEY2AQoATIIVrA6qgUgqUs     Behavioral       160x600   \n",
       "4      CICAgKDrlf74LhABGAEoATIIHjncu2pS3YE     Behavioral       160x600   \n",
       "\n",
       "       L1 Vertical                L2 Vertical IO Start Date  ...  \\\n",
       "0           Others                     Others    2018-01-01  ...   \n",
       "1           Others                     Others    2018-01-01  ...   \n",
       "2           Others                     Others    2018-01-01  ...   \n",
       "3           Others                     Others    2018-01-01  ...   \n",
       "4  Baby & Toddlers  Infant Care & Consumables    2018-01-22  ...   \n",
       "\n",
       "  Lifestyle Imagery  Heavy Copy  Savings Messaging Lable Description_x  \\\n",
       "0               Yes          No                 No                   0   \n",
       "1               Yes          No                 No                   0   \n",
       "2               Yes          No                 No                   0   \n",
       "3               Yes          No                 No                   0   \n",
       "4               Yes          No                 No                   0   \n",
       "\n",
       "  Lable Description_y Object_description Logo_description Text_description  \\\n",
       "0                   0                  0                0                0   \n",
       "1                   0                  0                0                0   \n",
       "2                   0                  0                0                0   \n",
       "3                   0                  0                0                0   \n",
       "4                   0                  0                0                0   \n",
       "\n",
       "  log_Impressions log_Clicks  \n",
       "0       12.217285   3.526361  \n",
       "1       12.080708   3.044522  \n",
       "2       11.364356   3.806662  \n",
       "3       11.006706   2.197225  \n",
       "4       11.962363   2.944439  \n",
       "\n",
       "[5 rows x 26 columns]"
      ]
     },
     "execution_count": 114,
     "metadata": {},
     "output_type": "execute_result"
    }
   ],
   "source": [
    "data=df.copy()\n",
    "data.head()"
   ]
  },
  {
   "cell_type": "code",
   "execution_count": 115,
   "metadata": {},
   "outputs": [
    {
     "data": {
      "text/html": [
       "<div>\n",
       "<style scoped>\n",
       "    .dataframe tbody tr th:only-of-type {\n",
       "        vertical-align: middle;\n",
       "    }\n",
       "\n",
       "    .dataframe tbody tr th {\n",
       "        vertical-align: top;\n",
       "    }\n",
       "\n",
       "    .dataframe thead th {\n",
       "        text-align: right;\n",
       "    }\n",
       "</style>\n",
       "<table border=\"1\" class=\"dataframe\">\n",
       "  <thead>\n",
       "    <tr style=\"text-align: right;\">\n",
       "      <th></th>\n",
       "      <th>Targeting Type</th>\n",
       "      <th>Creative Size</th>\n",
       "      <th>L1 Vertical</th>\n",
       "      <th>L2 Vertical</th>\n",
       "      <th>Impressions</th>\n",
       "      <th>Clicks</th>\n",
       "      <th>Lable Description_x</th>\n",
       "      <th>Lable Description_y</th>\n",
       "      <th>Object_description</th>\n",
       "      <th>Logo_description</th>\n",
       "      <th>Text_description</th>\n",
       "      <th>log_Impressions</th>\n",
       "      <th>log_Clicks</th>\n",
       "    </tr>\n",
       "  </thead>\n",
       "  <tbody>\n",
       "    <tr>\n",
       "      <th>0</th>\n",
       "      <td>Demographic</td>\n",
       "      <td>160x600</td>\n",
       "      <td>Others</td>\n",
       "      <td>Others</td>\n",
       "      <td>202255</td>\n",
       "      <td>34</td>\n",
       "      <td>0</td>\n",
       "      <td>0</td>\n",
       "      <td>0</td>\n",
       "      <td>0</td>\n",
       "      <td>0</td>\n",
       "      <td>12.217285</td>\n",
       "      <td>3.526361</td>\n",
       "    </tr>\n",
       "    <tr>\n",
       "      <th>1</th>\n",
       "      <td>Behavioral</td>\n",
       "      <td>160x600</td>\n",
       "      <td>Others</td>\n",
       "      <td>Others</td>\n",
       "      <td>176435</td>\n",
       "      <td>21</td>\n",
       "      <td>0</td>\n",
       "      <td>0</td>\n",
       "      <td>0</td>\n",
       "      <td>0</td>\n",
       "      <td>0</td>\n",
       "      <td>12.080708</td>\n",
       "      <td>3.044522</td>\n",
       "    </tr>\n",
       "    <tr>\n",
       "      <th>2</th>\n",
       "      <td>Contextual</td>\n",
       "      <td>160x600</td>\n",
       "      <td>Others</td>\n",
       "      <td>Others</td>\n",
       "      <td>86194</td>\n",
       "      <td>45</td>\n",
       "      <td>0</td>\n",
       "      <td>0</td>\n",
       "      <td>0</td>\n",
       "      <td>0</td>\n",
       "      <td>0</td>\n",
       "      <td>11.364356</td>\n",
       "      <td>3.806662</td>\n",
       "    </tr>\n",
       "    <tr>\n",
       "      <th>3</th>\n",
       "      <td>Behavioral</td>\n",
       "      <td>160x600</td>\n",
       "      <td>Others</td>\n",
       "      <td>Others</td>\n",
       "      <td>60277</td>\n",
       "      <td>9</td>\n",
       "      <td>0</td>\n",
       "      <td>0</td>\n",
       "      <td>0</td>\n",
       "      <td>0</td>\n",
       "      <td>0</td>\n",
       "      <td>11.006706</td>\n",
       "      <td>2.197225</td>\n",
       "    </tr>\n",
       "    <tr>\n",
       "      <th>4</th>\n",
       "      <td>Behavioral</td>\n",
       "      <td>160x600</td>\n",
       "      <td>Baby &amp; Toddlers</td>\n",
       "      <td>Infant Care &amp; Consumables</td>\n",
       "      <td>156743</td>\n",
       "      <td>19</td>\n",
       "      <td>0</td>\n",
       "      <td>0</td>\n",
       "      <td>0</td>\n",
       "      <td>0</td>\n",
       "      <td>0</td>\n",
       "      <td>11.962363</td>\n",
       "      <td>2.944439</td>\n",
       "    </tr>\n",
       "  </tbody>\n",
       "</table>\n",
       "</div>"
      ],
      "text/plain": [
       "  Targeting Type Creative Size      L1 Vertical                L2 Vertical  \\\n",
       "0    Demographic       160x600           Others                     Others   \n",
       "1     Behavioral       160x600           Others                     Others   \n",
       "2     Contextual       160x600           Others                     Others   \n",
       "3     Behavioral       160x600           Others                     Others   \n",
       "4     Behavioral       160x600  Baby & Toddlers  Infant Care & Consumables   \n",
       "\n",
       "   Impressions  Clicks Lable Description_x Lable Description_y  \\\n",
       "0       202255      34                   0                   0   \n",
       "1       176435      21                   0                   0   \n",
       "2        86194      45                   0                   0   \n",
       "3        60277       9                   0                   0   \n",
       "4       156743      19                   0                   0   \n",
       "\n",
       "  Object_description Logo_description Text_description  log_Impressions  \\\n",
       "0                  0                0                0        12.217285   \n",
       "1                  0                0                0        12.080708   \n",
       "2                  0                0                0        11.364356   \n",
       "3                  0                0                0        11.006706   \n",
       "4                  0                0                0        11.962363   \n",
       "\n",
       "   log_Clicks  \n",
       "0    3.526361  \n",
       "1    3.044522  \n",
       "2    3.806662  \n",
       "3    2.197225  \n",
       "4    2.944439  "
      ]
     },
     "execution_count": 115,
     "metadata": {},
     "output_type": "execute_result"
    }
   ],
   "source": [
    "data=data.drop(['Converge', 'Campaign Name', 'Creative Image','Media Buy Name',\n",
    "                'Creative Name','IO Start Date','IO End Date','Color','CTA',\n",
    "                'Product Shot / Product Portfolio','Lifestyle Imagery','Heavy Copy',\n",
    "                'Savings Messaging'], axis=1)\n",
    "data.head()"
   ]
  },
  {
   "cell_type": "code",
   "execution_count": 116,
   "metadata": {},
   "outputs": [],
   "source": [
    "data['Targeting Type'] = pd.factorize(data['Targeting Type'])[0] + 1\n"
   ]
  },
  {
   "cell_type": "code",
   "execution_count": 117,
   "metadata": {},
   "outputs": [],
   "source": [
    "data['Creative Size'] = pd.factorize(data['Creative Size'])[0] + 1\n"
   ]
  },
  {
   "cell_type": "code",
   "execution_count": 118,
   "metadata": {},
   "outputs": [],
   "source": [
    "data['L1 Vertical'] = pd.factorize(data['L1 Vertical'])[0] + 1\n"
   ]
  },
  {
   "cell_type": "code",
   "execution_count": 119,
   "metadata": {},
   "outputs": [],
   "source": [
    "data['L2 Vertical'] = pd.factorize(data['L2 Vertical'])[0] + 1\n"
   ]
  },
  {
   "cell_type": "code",
   "execution_count": 120,
   "metadata": {},
   "outputs": [],
   "source": [
    "data['Lable Description_x']=data['Lable Description_x'].replace(to_replace =0, value =\"Other\") "
   ]
  },
  {
   "cell_type": "code",
   "execution_count": 121,
   "metadata": {},
   "outputs": [],
   "source": [
    "data['Lable Description_x'] = pd.factorize(data['Lable Description_x'])[0] + 1\n"
   ]
  },
  {
   "cell_type": "code",
   "execution_count": 122,
   "metadata": {},
   "outputs": [],
   "source": [
    "data['Lable Description_y']=data['Lable Description_y'].replace(to_replace =0, value =\"Other\") \n"
   ]
  },
  {
   "cell_type": "code",
   "execution_count": 123,
   "metadata": {},
   "outputs": [],
   "source": [
    "data['Lable Description_y'] = pd.factorize(data['Lable Description_y'])[0] + 1\n"
   ]
  },
  {
   "cell_type": "code",
   "execution_count": 124,
   "metadata": {},
   "outputs": [],
   "source": [
    "data['Object_description']=data['Object_description'].replace(to_replace =0, value =\"Other\") \n"
   ]
  },
  {
   "cell_type": "code",
   "execution_count": 125,
   "metadata": {},
   "outputs": [],
   "source": [
    "data['Object_description'] = pd.factorize(data['Object_description'])[0] + 1\n"
   ]
  },
  {
   "cell_type": "code",
   "execution_count": 126,
   "metadata": {},
   "outputs": [],
   "source": [
    "data['Logo_description']=data['Logo_description'].replace(to_replace =0, value =\"Other\") \n"
   ]
  },
  {
   "cell_type": "code",
   "execution_count": 127,
   "metadata": {},
   "outputs": [],
   "source": [
    "data['Logo_description'] = pd.factorize(data['Logo_description'])[0] + 1\n"
   ]
  },
  {
   "cell_type": "code",
   "execution_count": 128,
   "metadata": {},
   "outputs": [],
   "source": [
    "data=data.drop(['Text_description','log_Clicks'], axis=1)\n"
   ]
  },
  {
   "cell_type": "code",
   "execution_count": 165,
   "metadata": {},
   "outputs": [],
   "source": [
    "data.to_csv(\"C:\\\\Users\\\\adishree.b\\\\Documents\\\\R_walmart.csv\")"
   ]
  },
  {
   "cell_type": "code",
   "execution_count": 33,
   "metadata": {},
   "outputs": [],
   "source": [
    "#dataframe = pd.DataFrame(data, columns=data['log_Impressions'])\n",
    "#pd.plotting.scatter_matrix(dataframe, c=data, figsize=(15,15), marker='o', hist_kwds={'bins':20}, s=60, alpha=.8)"
   ]
  },
  {
   "cell_type": "raw",
   "metadata": {},
   "source": [
    "\n",
    "color_list = ['red' if i=='M' else 'green' for i in data.loc[:,'log_Impressions']]\n",
    "pd.plotting.scatter_matrix(data.loc[:,data.columns != 'log_Impressions'],\n",
    "                          c = color_list,\n",
    "                          figsize = [15,15],\n",
    "                          diagonal = 'hist',\n",
    "                          alpha = 0.5, \n",
    "                          s = 100,\n",
    "                          marker = '*')\n",
    "plt.show()"
   ]
  },
  {
   "cell_type": "code",
   "execution_count": 130,
   "metadata": {},
   "outputs": [],
   "source": [
    "data_knn = data[['Targeting Type','Creative Size', 'L1 Vertical','L2 Vertical','Lable Description_x','Lable Description_y',\n",
    "                 'Object_description','Logo_description','Impressions','Clicks']]"
   ]
  },
  {
   "cell_type": "code",
   "execution_count": 131,
   "metadata": {},
   "outputs": [
    {
     "name": "stdout",
     "output_type": "stream",
     "text": [
      "<class 'pandas.core.frame.DataFrame'>\n",
      "RangeIndex: 11780 entries, 0 to 11779\n",
      "Data columns (total 10 columns):\n",
      "Targeting Type         11780 non-null int64\n",
      "Creative Size          11780 non-null int64\n",
      "L1 Vertical            11780 non-null int64\n",
      "L2 Vertical            11780 non-null int64\n",
      "Lable Description_x    11780 non-null int64\n",
      "Lable Description_y    11780 non-null int64\n",
      "Object_description     11780 non-null int64\n",
      "Logo_description       11780 non-null int64\n",
      "Impressions            11780 non-null int64\n",
      "Clicks                 11780 non-null int64\n",
      "dtypes: int64(10)\n",
      "memory usage: 920.4 KB\n"
     ]
    }
   ],
   "source": [
    "data_knn.info()"
   ]
  },
  {
   "cell_type": "code",
   "execution_count": 87,
   "metadata": {},
   "outputs": [],
   "source": [
    "#from sklearn import preprocessing\n",
    "#from sklearn import utils\n",
    "#\n",
    "#lab_enc = preprocessing.LabelEncoder()\n",
    "#encoded = lab_enc.fit_transform(data_knn['log_Impressions'])"
   ]
  },
  {
   "cell_type": "code",
   "execution_count": 88,
   "metadata": {},
   "outputs": [],
   "source": [
    "#print(utils.multiclass.type_of_target(data_knn['log_Impressions']))"
   ]
  },
  {
   "cell_type": "code",
   "execution_count": 89,
   "metadata": {},
   "outputs": [],
   "source": [
    "#print(utils.multiclass.type_of_target(data_knn['log_Impressions'].astype('int')))"
   ]
  },
  {
   "cell_type": "code",
   "execution_count": 90,
   "metadata": {},
   "outputs": [],
   "source": [
    "#print(utils.multiclass.type_of_target(encoded))"
   ]
  },
  {
   "cell_type": "raw",
   "metadata": {},
   "source": [
    "\n",
    "from sklearn.neighbors import KNeighborsClassifier\n",
    "from sklearn.model_selection import train_test_split\n",
    "\n",
    "knn = KNeighborsClassifier(n_neighbors = 5)\n",
    "x,y = data_knn.loc[:,data_knn.columns != 'log_Impressions'], data_knn.loc[:,'log_Impressions']\n",
    "x_train,x_test,y_train,y_test = train_test_split(x,y,test_size = 0.3, random_state = 42)\n",
    "knn.fit(x_train,y_train)\n",
    "prediction = knn.predict(x_test)\n",
    "#print('Prediction : {}'.format(prediction))\n",
    "print('With KNN (K=3) accuracy is: ', knn.score(x_test,y_test))\n"
   ]
  },
  {
   "cell_type": "raw",
   "metadata": {},
   "source": [
    "\n",
    "#Best K value selection\n",
    "neig = np.arange(1,30)\n",
    "train_accuracy = []\n",
    "test_accuracy = []\n",
    "for i, k in enumerate (neig):\n",
    "    knn = KNeighborsClassifier(n_neighbors = k)\n",
    "    knn.fit(x_train,y_train)\n",
    "    train_accuracy.append(knn.score(x_train,y_train))\n",
    "    test_accuracy.append(knn.score(x_test,y_test))\n",
    "\n",
    "# Plot\n",
    "plt.figure(figsize=(13,8))\n",
    "plt.plot(neig, test_accuracy, label = 'Testing Accuracy')\n",
    "plt.plot(neig, train_accuracy, label = 'Training Accuracy')\n",
    "plt.legend()\n",
    "plt.title('-value vs. Accuracy')\n",
    "plt.xlabel('Number of Neighbors')\n",
    "plt.ylabel('Accuracy')\n",
    "plt.xticks(neig)\n",
    "plt.savefig('graph.png')\n",
    "plt.show()\n",
    "print('Best Accuracy is {} with K = {}'.format(np.max(test_accuracy),1+test_accuracy.index(np.max(test_accuracy))))"
   ]
  },
  {
   "cell_type": "code",
   "execution_count": 133,
   "metadata": {},
   "outputs": [
    {
     "data": {
      "text/plain": [
       "Index(['Targeting Type', 'Creative Size', 'L1 Vertical', 'L2 Vertical',\n",
       "       'Lable Description_x', 'Lable Description_y', 'Object_description',\n",
       "       'Logo_description', 'Impressions', 'Clicks'],\n",
       "      dtype='object')"
      ]
     },
     "execution_count": 133,
     "metadata": {},
     "output_type": "execute_result"
    }
   ],
   "source": [
    "data_knn.columns"
   ]
  },
  {
   "cell_type": "code",
   "execution_count": 135,
   "metadata": {},
   "outputs": [],
   "source": [
    "data_kmeans = data_knn.drop(columns = ['Impressions','Clicks'])"
   ]
  },
  {
   "cell_type": "code",
   "execution_count": 167,
   "metadata": {},
   "outputs": [
    {
     "data": {
      "text/html": [
       "<div>\n",
       "<style scoped>\n",
       "    .dataframe tbody tr th:only-of-type {\n",
       "        vertical-align: middle;\n",
       "    }\n",
       "\n",
       "    .dataframe tbody tr th {\n",
       "        vertical-align: top;\n",
       "    }\n",
       "\n",
       "    .dataframe thead th {\n",
       "        text-align: right;\n",
       "    }\n",
       "</style>\n",
       "<table border=\"1\" class=\"dataframe\">\n",
       "  <thead>\n",
       "    <tr style=\"text-align: right;\">\n",
       "      <th></th>\n",
       "      <th>Targeting Type</th>\n",
       "      <th>Creative Size</th>\n",
       "      <th>L1 Vertical</th>\n",
       "      <th>L2 Vertical</th>\n",
       "      <th>Lable Description_x</th>\n",
       "      <th>Lable Description_y</th>\n",
       "      <th>Object_description</th>\n",
       "      <th>Logo_description</th>\n",
       "    </tr>\n",
       "  </thead>\n",
       "  <tbody>\n",
       "    <tr>\n",
       "      <th>0</th>\n",
       "      <td>1</td>\n",
       "      <td>1</td>\n",
       "      <td>1</td>\n",
       "      <td>1</td>\n",
       "      <td>1</td>\n",
       "      <td>1</td>\n",
       "      <td>1</td>\n",
       "      <td>1</td>\n",
       "    </tr>\n",
       "    <tr>\n",
       "      <th>1</th>\n",
       "      <td>2</td>\n",
       "      <td>1</td>\n",
       "      <td>1</td>\n",
       "      <td>1</td>\n",
       "      <td>1</td>\n",
       "      <td>1</td>\n",
       "      <td>1</td>\n",
       "      <td>1</td>\n",
       "    </tr>\n",
       "  </tbody>\n",
       "</table>\n",
       "</div>"
      ],
      "text/plain": [
       "   Targeting Type  Creative Size  L1 Vertical  L2 Vertical  \\\n",
       "0               1              1            1            1   \n",
       "1               2              1            1            1   \n",
       "\n",
       "   Lable Description_x  Lable Description_y  Object_description  \\\n",
       "0                    1                    1                   1   \n",
       "1                    1                    1                   1   \n",
       "\n",
       "   Logo_description  \n",
       "0                 1  \n",
       "1                 1  "
      ]
     },
     "execution_count": 167,
     "metadata": {},
     "output_type": "execute_result"
    }
   ],
   "source": [
    "data_kmeans.head(2)"
   ]
  },
  {
   "cell_type": "markdown",
   "metadata": {},
   "source": [
    "#### k-means clustering without impressions:"
   ]
  },
  {
   "cell_type": "code",
   "execution_count": 137,
   "metadata": {},
   "outputs": [
    {
     "data": {
      "image/png": "[encoded data removed]",
      "text/plain": [
       "<Figure size 576x396 with 2 Axes>"
      ]
     },
     "metadata": {},
     "output_type": "display_data"
    },
    {
     "data": {
      "text/plain": [
       "<matplotlib.axes._subplots.AxesSubplot at 0x16a12136080>"
      ]
     },
     "execution_count": 137,
     "metadata": {},
     "output_type": "execute_result"
    }
   ],
   "source": [
    "\n",
    "from yellowbrick.cluster import KElbowVisualizer\n",
    "\n",
    "# Instantiate the clustering model and visualizer\n",
    "model = KMeans()\n",
    "visualizer = KElbowVisualizer(model, k=(3,12))\n",
    "\n",
    "visualizer.fit(data_kmeans)        # Fit the data to the visualizer\n",
    "visualizer.show()   "
   ]
  },
  {
   "cell_type": "code",
   "execution_count": 138,
   "metadata": {},
   "outputs": [
    {
     "data": {
      "text/plain": [
       "KMeans(algorithm='auto', copy_x=True, init='k-means++', max_iter=300,\n",
       "       n_clusters=6, n_init=10, n_jobs=None, precompute_distances='auto',\n",
       "       random_state=None, tol=0.0001, verbose=0)"
      ]
     },
     "execution_count": 138,
     "metadata": {},
     "output_type": "execute_result"
    }
   ],
   "source": [
    "from sklearn import cluster\n",
    "\n",
    "k_means = cluster.KMeans(n_clusters=6)\n",
    "k_means.fit(data_kmeans)"
   ]
  },
  {
   "cell_type": "code",
   "execution_count": 139,
   "metadata": {},
   "outputs": [],
   "source": [
    "data_knn['Clusters']=k_means.labels_"
   ]
  },
  {
   "cell_type": "code",
   "execution_count": 140,
   "metadata": {},
   "outputs": [
    {
     "data": {
      "text/plain": [
       "Clusters\n",
       "0     98302.976892\n",
       "1     96422.192037\n",
       "2    145777.065041\n",
       "3    110951.815594\n",
       "4    144230.568729\n",
       "5    113556.591810\n",
       "Name: Impressions, dtype: float64"
      ]
     },
     "execution_count": 140,
     "metadata": {},
     "output_type": "execute_result"
    }
   ],
   "source": [
    "data_knn.groupby(['Clusters']).Impressions.mean()"
   ]
  },
  {
   "cell_type": "code",
   "execution_count": null,
   "metadata": {},
   "outputs": [],
   "source": []
  },
  {
   "cell_type": "code",
   "execution_count": 141,
   "metadata": {},
   "outputs": [
    {
     "data": {
      "text/plain": [
       "1    6530\n",
       "0    1731\n",
       "5    1514\n",
       "3     808\n",
       "2     615\n",
       "4     582\n",
       "Name: Clusters, dtype: int64"
      ]
     },
     "execution_count": 141,
     "metadata": {},
     "output_type": "execute_result"
    }
   ],
   "source": [
    "data_knn['Clusters'].value_counts()"
   ]
  },
  {
   "cell_type": "code",
   "execution_count": 142,
   "metadata": {},
   "outputs": [
    {
     "data": {
      "text/plain": [
       "<matplotlib.axes._subplots.AxesSubplot at 0x16a1397cba8>"
      ]
     },
     "execution_count": 142,
     "metadata": {},
     "output_type": "execute_result"
    },
    {
     "data": {
      "image/png": "[encoded data removed]",
      "text/plain": [
       "<Figure size 1440x360 with 1 Axes>"
      ]
     },
     "metadata": {},
     "output_type": "display_data"
    }
   ],
   "source": [
    "fig = plt.figure(figsize=(20,5))\n",
    "plt.xlabel('Year of registration')\n",
    "plt.ylabel('Number of Vehicles registered')\n",
    "plt.title('Distribution of vehicles by year of Registration')\n",
    "data_knn.groupby(['Clusters']).Impressions.mean().plot.bar()"
   ]
  },
  {
   "cell_type": "code",
   "execution_count": 143,
   "metadata": {},
   "outputs": [
    {
     "data": {
      "text/plain": [
       "<matplotlib.axes._subplots.AxesSubplot at 0x16a127e48d0>"
      ]
     },
     "execution_count": 143,
     "metadata": {},
     "output_type": "execute_result"
    },
    {
     "data": {
      "image/png": "[encoded data removed]",
      "text/plain": [
       "<Figure size 1440x360 with 1 Axes>"
      ]
     },
     "metadata": {},
     "output_type": "display_data"
    }
   ],
   "source": [
    "fig = plt.figure(figsize=(20,5))\n",
    "plt.xlabel('Year of registration')\n",
    "plt.ylabel('Number of Vehicles registered')\n",
    "plt.title('Distribution of vehicles by year of Registration')\n",
    "data_knn.groupby(['Clusters']).Clicks.mean().plot.bar()"
   ]
  },
  {
   "cell_type": "code",
   "execution_count": 153,
   "metadata": {},
   "outputs": [],
   "source": [
    "Imp_clust = data_knn.groupby(['Clusters']).Impressions.mean().reset_index()\n",
    "click_clust = data_knn.groupby(['Clusters']).Clicks.mean().reset_index()"
   ]
  },
  {
   "cell_type": "code",
   "execution_count": 164,
   "metadata": {},
   "outputs": [],
   "source": [
    "data_c = Imp_clust.merge(click_clust,on='Clusters')"
   ]
  },
  {
   "cell_type": "code",
   "execution_count": 163,
   "metadata": {},
   "outputs": [
    {
     "data": {
      "image/png": "[encoded data removed]",
      "text/plain": [
       "<Figure size 576x396 with 1 Axes>"
      ]
     },
     "metadata": {},
     "output_type": "display_data"
    }
   ],
   "source": [
    "y = data_c['Impressions']\n",
    "z = data_c['Clicks']\n",
    "n = data_c['Clusters']\n",
    "\n",
    "fig, ax = plt.subplots()\n",
    "ax.scatter(z, y)\n",
    "\n",
    "for i, txt in enumerate(n):\n",
    "    ax.annotate(txt, (z[i], y[i]))"
   ]
  }
 ],
 "metadata": {
  "kernelspec": {
   "display_name": "Python 3",
   "language": "python",
   "name": "python3"
  },
  "language_info": {
   "codemirror_mode": {
    "name": "ipython",
    "version": 3
   },
   "file_extension": ".py",
   "mimetype": "text/x-python",
   "name": "python",
   "nbconvert_exporter": "python",
   "pygments_lexer": "ipython3",
   "version": "3.7.1"
  }
 },
 "nbformat": 4,
 "nbformat_minor": 2
}
